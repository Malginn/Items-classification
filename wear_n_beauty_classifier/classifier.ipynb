{
  "cells": [
    {
      "cell_type": "code",
      "execution_count": null,
      "metadata": {
        "colab": {
          "base_uri": "https://localhost:8080/"
        },
        "id": "35DFkcCvNKIz",
        "outputId": "24ff7716-c416-452e-f941-7cd318f6e6aa"
      },
      "outputs": [],
      "source": [
        "import tensorflow as tf\n",
        "import numpy as np\n",
        "import matplotlib.pyplot as plt\n",
        "\n",
        "import os, sys\n",
        "from os import listdir\n",
        "from os.path import isfile, join\n",
        "from pathlib import Path\n",
        "from glob import glob\n",
        "\n",
        "\n",
        "from google.colab.patches import cv2_imshow\n",
        "\n",
        "from tensorflow.keras.preprocessing.image import ImageDataGenerator\n",
        "from tensorflow.keras.applications.resnet import preprocess_input\n",
        "\n",
        "from PIL import Image\n",
        "import cv2\n",
        "\n",
        "\n",
        "from google.colab import drive\n",
        "drive.mount('/content/drive')"
      ]
    },
    {
      "cell_type": "code",
      "execution_count": null,
      "metadata": {},
      "outputs": [],
      "source": [
        "!unzip '/content/drive/MyDrive/ozon_data_img/dir.zip'\n"
      ]
    },
    {
      "cell_type": "code",
      "execution_count": null,
      "metadata": {},
      "outputs": [],
      "source": [
        "data_path = Path('dir/test')\n",
        "class_names = [f for f in listdir(data_path) if isdir(join(data_path, f))]"
      ]
    },
    {
      "cell_type": "code",
      "execution_count": null,
      "metadata": {
        "id": "wWmhMPPb7E7_"
      },
      "outputs": [],
      "source": [
        "base_dir = Path('/content/dir')\n",
        "folders = []\n",
        "test_dir = base_dir / 'test/'\n",
        "train_dir = base_dir / 'train/'"
      ]
    },
    {
      "cell_type": "code",
      "execution_count": null,
      "metadata": {
        "id": "2soKr2kRq21i"
      },
      "outputs": [],
      "source": [
        "class Data():\n",
        "  def __init__(self):\n",
        "    pass\n",
        "  \n",
        "  def prepare_data(preprocess_input, BATCH_SIZE=512, IMG_SHAPE=150, val_dir=test_dir, train_dir=train_dir, class_mode='binary'):\n",
        "\n",
        "    image_gen_train = ImageDataGenerator(preprocessing_function=preprocess_input)\n",
        "    image_gen_val = ImageDataGenerator(preprocessing_function=preprocess_input, fill_mode='nearest')\n",
        "\n",
        "    train_data_gen = image_gen_train.flow_from_directory(batch_size=BATCH_SIZE,\n",
        "                                                        directory=train_dir,\n",
        "                                                        shuffle=True,\n",
        "                                                        target_size=(IMG_SHAPE,IMG_SHAPE),\n",
        "                                                        class_mode=class_mode)\n",
        "\n",
        "    val_data_gen = image_gen_val.flow_from_directory(batch_size=BATCH_SIZE,\n",
        "                                                                  directory=val_dir,\n",
        "                                                                  shuffle=False,\n",
        "                                                                  target_size=(IMG_SHAPE,IMG_SHAPE), #(150,150)\n",
        "                                                                  class_mode=class_mode)\n",
        "    return train_data_gen, val_data_gen"
      ]
    },
    {
      "cell_type": "code",
      "execution_count": null,
      "metadata": {
        "colab": {
          "base_uri": "https://localhost:8080/"
        },
        "id": "IVM5d0KjHk1A",
        "outputId": "509589ac-60c4-45b7-c5eb-77124564bf90"
      },
      "outputs": [],
      "source": [
        "data = Data()\n",
        "train_data_gen, val_data_gen = Data.prepare_data(preprocess_input=preprocess_input, train_dir=train_dir, val_dir=test_dir)"
      ]
    },
    {
      "cell_type": "code",
      "execution_count": null,
      "metadata": {
        "id": "_ny3IJ5cudhL"
      },
      "outputs": [],
      "source": [
        "class Classifier:\n",
        "  def __init__(self):\n",
        "    self.IMG_SHAPE = (150, 150, 3)\n",
        "    # базовая модель -- EfficientNetV2M\n",
        "    self.base_model = tf.keras.applications.EfficientNetV2M(input_shape=self.IMG_SHAPE, weights='imagenet', include_top=False)  #\n",
        "    self.base_model.trainable = False # замораживаем всю базовую модель\n",
        "\n",
        "  def unfreeze(self):\n",
        "    self.base_model.trainable = True\n",
        "    print(\"Количество слоев в базовой модели: \", len(self.base_model.layers), '\\n')\n",
        "    fine_tune_at = 600\n",
        "    # все слои до -- заморозим\n",
        "    for layer in self.base_model.layers[:fine_tune_at]:\n",
        "      layer.trainable =  False\n",
        "\n",
        "\n",
        "  def extra_layers(self,metrics='accuracy', optimizer=tf.keras.optimizers.Adam(learning_rate=0.01), num_classes=None, loss=None): #tf.keras.optimizers.Adam(learning_rate=0.001)\n",
        "    if num_classes == 2:\n",
        "      self.model = tf.keras.Sequential([\n",
        "      self.base_model,\n",
        "      # tf.keras.layers.Dropout(0.5),\n",
        "      # tf.keras.layers.BatchNormalization(),\n",
        "      # tf.keras.layers.Dense(100, activation='elu'),\n",
        "      # tf.keras.layers.Dropout(0.5),\n",
        "      tf.keras.layers.GlobalAveragePooling2D(),\n",
        "      tf.keras.layers.Dense(1, activation='sigmoid')\n",
        "      ])\n",
        "    else:\n",
        "      self.model = tf.keras.Sequential([\n",
        "      self.base_model,\n",
        "      tf.keras.layers.GlobalAveragePooling2D(),\n",
        "      tf.keras.layers.Dense(num_classes, activation='softmax')\n",
        "      ])\n",
        "    self.model.compile(optimizer=optimizer, loss=loss, metrics=[metrics])\n",
        "\n",
        "    print('!the model was built with additional layers!\\n')\n",
        "  \n",
        "  \n",
        "  def fit_train(self, epochs=10, train_data_gen=train_data_gen, val_data_gen=val_data_gen):\n",
        "    сheckpoint = callbacks.ModelCheckpoint('/content/efficentnetV2M-ozon.hdf5', monitor='val_acc', save_best_only=True)\n",
        "    self.hist = self.model.fit_generator(\n",
        "    train_data_gen,\n",
        "    epochs=epochs,\n",
        "    validation_data=val_data_gen,\n",
        "    callbacks=[сheckpoint]\n",
        "    )\n",
        "\n",
        "\n",
        "  def fit_vizualization(self):\n",
        "    plt.plot(self.hist.history['loss'])\n",
        "    plt.plot(self.hist.history['val_loss'])\n",
        "\n",
        "\n",
        "  def predict_classes(self, datagen=val_data_gen):\n",
        "    sample_validation_images, sample_validation_labels = next(datagen)\n",
        "    self.predictions = (self.model.predict(sample_validation_images) > 0.5).astype(\"int32\").flatten()\n",
        "    self.sample_validation_images = sample_validation_images\n",
        "    self.sample_validation_labels = sample_validation_labels\n",
        "\n",
        "\n",
        "  def show_predictions(self, images, labels, predicted_labels=None):\n",
        "    # names = {0: \"No\", 1: \"Yes\"}\n",
        "    # names = zip(range(74), class_names)\n",
        "    plt.figure(figsize=(10,10))\n",
        "    for i in range(len(predicted_labels)):\n",
        "        plt.subplot(4,4, i+1)\n",
        "        plt.xticks([])\n",
        "        plt.yticks([])\n",
        "        plt.grid(False)\n",
        "        plt.imshow((images[i] + 1)/2., cmap=plt.cm.gray)\n",
        "        if predicted_labels is not None:\n",
        "            title_obj = plt.title(f\"Real: {names[labels[i]]}. Pred: {names[predicted_labels[i]]}\")\n",
        "            if labels[i] != predicted_labels[i]:\n",
        "                plt.setp(title_obj, color='r')\n",
        "        else:\n",
        "            plt.title(f\"Real label: {names[labels[i]]}\")"
      ]
    },
    {
      "cell_type": "code",
      "execution_count": null,
      "metadata": {
        "colab": {
          "base_uri": "https://localhost:8080/"
        },
        "id": "U2dg-UZWkoiy",
        "outputId": "57fd4433-10be-4df8-dbe0-928132a3dd96"
      },
      "outputs": [],
      "source": [
        "%%time\n",
        "ozon = Classifier()\n",
        "ozon.extra_layers(num_classes=73, loss=tf.keras.losses.SparseCategoricalCrossentropy())\n",
        "ozon.unfreeze()\n",
        "ozon.fit_train(epochs=30)      #change valid\n"
      ]
    },
    {
      "cell_type": "code",
      "execution_count": null,
      "metadata": {
        "colab": {
          "base_uri": "https://localhost:8080/",
          "height": 438
        },
        "id": "nXFm_0B899h5",
        "outputId": "22fc0c8c-e471-40cd-bdf6-34892122c78a"
      },
      "outputs": [],
      "source": [
        "ozon.fit_vizualization()\n",
        "ozon.predict_classes(train_data_gen)    #change valid\n",
        "ozon.show_predictions(ozon.sample_validation_images, ozon.sample_validation_labels, ozon.predictions)"
      ]
    },
    {
      "cell_type": "code",
      "execution_count": null,
      "metadata": {
        "colab": {
          "base_uri": "https://localhost:8080/",
          "height": 282
        },
        "id": "RrW61uS2MZsr",
        "outputId": "a9f463cd-da00-4bfa-f827-aba5f34e45bf"
      },
      "outputs": [],
      "source": [
        "plt.plot(ozon.hist.history['accuracy'])\n",
        "plt.plot(ozon.hist.history['val_accuracy'])"
      ]
    },
    {
      "cell_type": "code",
      "execution_count": null,
      "metadata": {
        "id": "pn7-tNVqJS26"
      },
      "outputs": [],
      "source": []
    }
  ],
  "metadata": {
    "accelerator": "GPU",
    "colab": {
      "collapsed_sections": [],
      "provenance": []
    },
    "gpuClass": "standard",
    "kernelspec": {
      "display_name": "Python 3.9.7 ('base')",
      "language": "python",
      "name": "python3"
    },
    "language_info": {
      "name": "python",
      "version": "3.9.7"
    },
    "vscode": {
      "interpreter": {
        "hash": "ad2bdc8ecc057115af97d19610ffacc2b4e99fae6737bb82f5d7fb13d2f2c186"
      }
    }
  },
  "nbformat": 4,
  "nbformat_minor": 0
}
