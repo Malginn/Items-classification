{
  "cells": [
    {
      "cell_type": "code",
      "execution_count": 1,
      "metadata": {
        "colab": {
          "base_uri": "https://localhost:8080/"
        },
        "id": "DKOJEzptrwON",
        "outputId": "fea3d2f4-48c7-43e1-b3ce-ed67f7be1eb0"
      },
      "outputs": [
        {
          "name": "stdout",
          "output_type": "stream",
          "text": [
            "Looking in indexes: https://pypi.org/simple, https://us-python.pkg.dev/colab-wheels/public/simple/\n",
            "Collecting livelossplot\n",
            "  Downloading livelossplot-0.5.5-py3-none-any.whl (22 kB)\n",
            "Requirement already satisfied: numpy<1.22 in /usr/local/lib/python3.7/dist-packages (from livelossplot) (1.21.6)\n",
            "Requirement already satisfied: ipython==7.* in /usr/local/lib/python3.7/dist-packages (from livelossplot) (7.9.0)\n",
            "Requirement already satisfied: bokeh in /usr/local/lib/python3.7/dist-packages (from livelossplot) (2.3.3)\n",
            "Requirement already satisfied: matplotlib in /usr/local/lib/python3.7/dist-packages (from livelossplot) (3.2.2)\n",
            "Requirement already satisfied: setuptools>=18.5 in /usr/local/lib/python3.7/dist-packages (from ipython==7.*->livelossplot) (57.4.0)\n",
            "Requirement already satisfied: backcall in /usr/local/lib/python3.7/dist-packages (from ipython==7.*->livelossplot) (0.2.0)\n",
            "Requirement already satisfied: pygments in /usr/local/lib/python3.7/dist-packages (from ipython==7.*->livelossplot) (2.6.1)\n",
            "Requirement already satisfied: pexpect in /usr/local/lib/python3.7/dist-packages (from ipython==7.*->livelossplot) (4.8.0)\n",
            "Requirement already satisfied: pickleshare in /usr/local/lib/python3.7/dist-packages (from ipython==7.*->livelossplot) (0.7.5)\n",
            "Requirement already satisfied: decorator in /usr/local/lib/python3.7/dist-packages (from ipython==7.*->livelossplot) (4.4.2)\n",
            "Requirement already satisfied: prompt-toolkit<2.1.0,>=2.0.0 in /usr/local/lib/python3.7/dist-packages (from ipython==7.*->livelossplot) (2.0.10)\n",
            "Collecting jedi>=0.10\n",
            "  Downloading jedi-0.18.1-py2.py3-none-any.whl (1.6 MB)\n",
            "\u001b[K     |████████████████████████████████| 1.6 MB 42.6 MB/s \n",
            "\u001b[?25hRequirement already satisfied: traitlets>=4.2 in /usr/local/lib/python3.7/dist-packages (from ipython==7.*->livelossplot) (5.1.1)\n",
            "Requirement already satisfied: parso<0.9.0,>=0.8.0 in /usr/local/lib/python3.7/dist-packages (from jedi>=0.10->ipython==7.*->livelossplot) (0.8.3)\n",
            "Requirement already satisfied: six>=1.9.0 in /usr/local/lib/python3.7/dist-packages (from prompt-toolkit<2.1.0,>=2.0.0->ipython==7.*->livelossplot) (1.15.0)\n",
            "Requirement already satisfied: wcwidth in /usr/local/lib/python3.7/dist-packages (from prompt-toolkit<2.1.0,>=2.0.0->ipython==7.*->livelossplot) (0.2.5)\n",
            "Requirement already satisfied: pillow>=7.1.0 in /usr/local/lib/python3.7/dist-packages (from bokeh->livelossplot) (7.1.2)\n",
            "Requirement already satisfied: tornado>=5.1 in /usr/local/lib/python3.7/dist-packages (from bokeh->livelossplot) (5.1.1)\n",
            "Requirement already satisfied: typing-extensions>=3.7.4 in /usr/local/lib/python3.7/dist-packages (from bokeh->livelossplot) (4.1.1)\n",
            "Requirement already satisfied: PyYAML>=3.10 in /usr/local/lib/python3.7/dist-packages (from bokeh->livelossplot) (6.0)\n",
            "Requirement already satisfied: Jinja2>=2.9 in /usr/local/lib/python3.7/dist-packages (from bokeh->livelossplot) (2.11.3)\n",
            "Requirement already satisfied: packaging>=16.8 in /usr/local/lib/python3.7/dist-packages (from bokeh->livelossplot) (21.3)\n",
            "Requirement already satisfied: python-dateutil>=2.1 in /usr/local/lib/python3.7/dist-packages (from bokeh->livelossplot) (2.8.2)\n",
            "Requirement already satisfied: MarkupSafe>=0.23 in /usr/local/lib/python3.7/dist-packages (from Jinja2>=2.9->bokeh->livelossplot) (2.0.1)\n",
            "Requirement already satisfied: pyparsing!=3.0.5,>=2.0.2 in /usr/local/lib/python3.7/dist-packages (from packaging>=16.8->bokeh->livelossplot) (3.0.9)\n",
            "Requirement already satisfied: cycler>=0.10 in /usr/local/lib/python3.7/dist-packages (from matplotlib->livelossplot) (0.11.0)\n",
            "Requirement already satisfied: kiwisolver>=1.0.1 in /usr/local/lib/python3.7/dist-packages (from matplotlib->livelossplot) (1.4.4)\n",
            "Requirement already satisfied: ptyprocess>=0.5 in /usr/local/lib/python3.7/dist-packages (from pexpect->ipython==7.*->livelossplot) (0.7.0)\n",
            "Installing collected packages: jedi, livelossplot\n",
            "Successfully installed jedi-0.18.1 livelossplot-0.5.5\n",
            "Looking in indexes: https://pypi.org/simple, https://us-python.pkg.dev/colab-wheels/public/simple/\n",
            "Collecting webp\n",
            "  Downloading webp-0.1.4-cp37-cp37m-manylinux_2_17_x86_64.manylinux2014_x86_64.whl (423 kB)\n",
            "\u001b[K     |████████████████████████████████| 423 kB 28.5 MB/s \n",
            "\u001b[?25hRequirement already satisfied: Pillow>=4.0.0 in /usr/local/lib/python3.7/dist-packages (from webp) (7.1.2)\n",
            "Requirement already satisfied: numpy>=1.0.0 in /usr/local/lib/python3.7/dist-packages (from webp) (1.21.6)\n",
            "Requirement already satisfied: cffi>=1.0.0 in /usr/local/lib/python3.7/dist-packages (from webp) (1.15.1)\n",
            "Requirement already satisfied: pycparser in /usr/local/lib/python3.7/dist-packages (from cffi>=1.0.0->webp) (2.21)\n",
            "Installing collected packages: webp\n",
            "Successfully installed webp-0.1.4\n"
          ]
        }
      ],
      "source": [
        "!pip install livelossplot\n",
        "!pip install webp\n",
        "from livelossplot.tf_keras import PlotLossesCallback\n",
        "import webp"
      ]
    },
    {
      "cell_type": "code",
      "execution_count": 1,
      "metadata": {
        "colab": {
          "base_uri": "https://localhost:8080/"
        },
        "id": "35DFkcCvNKIz",
        "outputId": "24ff7716-c416-452e-f941-7cd318f6e6aa"
      },
      "outputs": [
        {
          "name": "stdout",
          "output_type": "stream",
          "text": [
            "Drive already mounted at /content/drive; to attempt to forcibly remount, call drive.mount(\"/content/drive\", force_remount=True).\n"
          ]
        }
      ],
      "source": [
        "import tensorflow as tf\n",
        "import numpy as np\n",
        "import matplotlib.pyplot as plt\n",
        "from tensorflow.keras.preprocessing.image import ImageDataGenerator\n",
        "import os, sys\n",
        "from os import listdir\n",
        "from os.path import isfile, join\n",
        "from pathlib import Path\n",
        "import cv2\n",
        "\n",
        "from google.colab.patches import cv2_imshow\n",
        "\n",
        "from tensorflow.keras.applications.resnet import preprocess_input\n",
        "from glob import glob\n",
        "from PIL import Image\n",
        "\n",
        "\n",
        "from google.colab import drive\n",
        "drive.mount('/content/drive')"
      ]
    },
    {
      "cell_type": "code",
      "execution_count": 3,
      "metadata": {
        "id": "BVaS-5sZwauG"
      },
      "outputs": [],
      "source": [
        "def show_predictions(images, labels, predicted_labels=None):\n",
        "    names = {0: \"Tank\", 1: \"Skirt\"}\n",
        "    plt.figure(figsize=(10,10))\n",
        "    for i in range(16):\n",
        "        plt.subplot(4,4, i+1)\n",
        "        plt.xticks([])\n",
        "        plt.yticks([])\n",
        "        plt.grid(False)\n",
        "        plt.imshow((images[i] + 1)/2., cmap=plt.cm.gray)\n",
        "        if predicted_labels is not None:\n",
        "            title_obj = plt.title(f\"Real: {names[labels[i]]}. Pred: {names[predicted_labels[i]]}\")\n",
        "            if labels[i] != predicted_labels[i]:\n",
        "                plt.setp(title_obj, color='r')\n",
        "        else:\n",
        "            plt.title(f\"Real label: {names[labels[i]]}\")"
      ]
    },
    {
      "cell_type": "markdown",
      "metadata": {
        "id": "1uwAQmwvTRPz"
      },
      "source": [
        "начало"
      ]
    },
    {
      "cell_type": "code",
      "execution_count": 2,
      "metadata": {
        "colab": {
          "base_uri": "https://localhost:8080/",
          "height": 380
        },
        "id": "F3W8eP6l-cZ1",
        "outputId": "f49869a1-a05a-48a4-d9bd-fc49cc4d106b"
      },
      "outputs": [
        {
          "ename": "KeyboardInterrupt",
          "evalue": "ignored",
          "output_type": "error",
          "traceback": [
            "\u001b[0;31m---------------------------------------------------------------------------\u001b[0m",
            "\u001b[0;31mKeyboardInterrupt\u001b[0m                         Traceback (most recent call last)",
            "\u001b[0;32m<ipython-input-2-d92185a0f690>\u001b[0m in \u001b[0;36m<module>\u001b[0;34m\u001b[0m\n\u001b[1;32m     11\u001b[0m   \u001b[0;32mfor\u001b[0m \u001b[0mnum\u001b[0m\u001b[0;34m,\u001b[0m \u001b[0mfilename\u001b[0m \u001b[0;32min\u001b[0m \u001b[0menumerate\u001b[0m\u001b[0;34m(\u001b[0m\u001b[0monlyfiles\u001b[0m\u001b[0;34m)\u001b[0m\u001b[0;34m:\u001b[0m\u001b[0;34m\u001b[0m\u001b[0;34m\u001b[0m\u001b[0m\n\u001b[1;32m     12\u001b[0m     \u001b[0mim\u001b[0m \u001b[0;34m=\u001b[0m \u001b[0mImage\u001b[0m\u001b[0;34m.\u001b[0m\u001b[0mopen\u001b[0m\u001b[0;34m(\u001b[0m\u001b[0mPath\u001b[0m\u001b[0;34m(\u001b[0m\u001b[0mdir_path\u001b[0m\u001b[0;34m)\u001b[0m \u001b[0;34m/\u001b[0m \u001b[0mfilename\u001b[0m\u001b[0;34m)\u001b[0m\u001b[0;34m\u001b[0m\u001b[0;34m\u001b[0m\u001b[0m\n\u001b[0;32m---> 13\u001b[0;31m     \u001b[0mim\u001b[0m \u001b[0;34m=\u001b[0m \u001b[0mim\u001b[0m\u001b[0;34m.\u001b[0m\u001b[0msave\u001b[0m\u001b[0;34m(\u001b[0m\u001b[0;34mf'{dir_path}/test{num}.jpg'\u001b[0m\u001b[0;34m,\u001b[0m \u001b[0;34m)\u001b[0m\u001b[0;34m\u001b[0m\u001b[0;34m\u001b[0m\u001b[0m\n\u001b[0m\u001b[1;32m     14\u001b[0m \u001b[0;34m\u001b[0m\u001b[0m\n\u001b[1;32m     15\u001b[0m \u001b[0;34m\u001b[0m\u001b[0m\n",
            "\u001b[0;32m/usr/local/lib/python3.7/dist-packages/PIL/Image.py\u001b[0m in \u001b[0;36msave\u001b[0;34m(self, fp, format, **params)\u001b[0m\n\u001b[1;32m   2132\u001b[0m \u001b[0;34m\u001b[0m\u001b[0m\n\u001b[1;32m   2133\u001b[0m         \u001b[0;32mtry\u001b[0m\u001b[0;34m:\u001b[0m\u001b[0;34m\u001b[0m\u001b[0;34m\u001b[0m\u001b[0m\n\u001b[0;32m-> 2134\u001b[0;31m             \u001b[0msave_handler\u001b[0m\u001b[0;34m(\u001b[0m\u001b[0mself\u001b[0m\u001b[0;34m,\u001b[0m \u001b[0mfp\u001b[0m\u001b[0;34m,\u001b[0m \u001b[0mfilename\u001b[0m\u001b[0;34m)\u001b[0m\u001b[0;34m\u001b[0m\u001b[0;34m\u001b[0m\u001b[0m\n\u001b[0m\u001b[1;32m   2135\u001b[0m         \u001b[0;32mfinally\u001b[0m\u001b[0;34m:\u001b[0m\u001b[0;34m\u001b[0m\u001b[0;34m\u001b[0m\u001b[0m\n\u001b[1;32m   2136\u001b[0m             \u001b[0;31m# do what we can to clean up\u001b[0m\u001b[0;34m\u001b[0m\u001b[0;34m\u001b[0m\u001b[0;34m\u001b[0m\u001b[0m\n",
            "\u001b[0;32m/usr/local/lib/python3.7/dist-packages/PIL/JpegImagePlugin.py\u001b[0m in \u001b[0;36m_save\u001b[0;34m(im, fp, filename)\u001b[0m\n\u001b[1;32m    761\u001b[0m     \u001b[0mbufsize\u001b[0m \u001b[0;34m=\u001b[0m \u001b[0mmax\u001b[0m\u001b[0;34m(\u001b[0m\u001b[0mImageFile\u001b[0m\u001b[0;34m.\u001b[0m\u001b[0mMAXBLOCK\u001b[0m\u001b[0;34m,\u001b[0m \u001b[0mbufsize\u001b[0m\u001b[0;34m,\u001b[0m \u001b[0mlen\u001b[0m\u001b[0;34m(\u001b[0m\u001b[0mexif\u001b[0m\u001b[0;34m)\u001b[0m \u001b[0;34m+\u001b[0m \u001b[0;36m5\u001b[0m\u001b[0;34m,\u001b[0m \u001b[0mlen\u001b[0m\u001b[0;34m(\u001b[0m\u001b[0mextra\u001b[0m\u001b[0;34m)\u001b[0m \u001b[0;34m+\u001b[0m \u001b[0;36m1\u001b[0m\u001b[0;34m)\u001b[0m\u001b[0;34m\u001b[0m\u001b[0;34m\u001b[0m\u001b[0m\n\u001b[1;32m    762\u001b[0m \u001b[0;34m\u001b[0m\u001b[0m\n\u001b[0;32m--> 763\u001b[0;31m     \u001b[0mImageFile\u001b[0m\u001b[0;34m.\u001b[0m\u001b[0m_save\u001b[0m\u001b[0;34m(\u001b[0m\u001b[0mim\u001b[0m\u001b[0;34m,\u001b[0m \u001b[0mfp\u001b[0m\u001b[0;34m,\u001b[0m \u001b[0;34m[\u001b[0m\u001b[0;34m(\u001b[0m\u001b[0;34m\"jpeg\"\u001b[0m\u001b[0;34m,\u001b[0m \u001b[0;34m(\u001b[0m\u001b[0;36m0\u001b[0m\u001b[0;34m,\u001b[0m \u001b[0;36m0\u001b[0m\u001b[0;34m)\u001b[0m \u001b[0;34m+\u001b[0m \u001b[0mim\u001b[0m\u001b[0;34m.\u001b[0m\u001b[0msize\u001b[0m\u001b[0;34m,\u001b[0m \u001b[0;36m0\u001b[0m\u001b[0;34m,\u001b[0m \u001b[0mrawmode\u001b[0m\u001b[0;34m)\u001b[0m\u001b[0;34m]\u001b[0m\u001b[0;34m,\u001b[0m \u001b[0mbufsize\u001b[0m\u001b[0;34m)\u001b[0m\u001b[0;34m\u001b[0m\u001b[0;34m\u001b[0m\u001b[0m\n\u001b[0m\u001b[1;32m    764\u001b[0m \u001b[0;34m\u001b[0m\u001b[0m\n\u001b[1;32m    765\u001b[0m \u001b[0;34m\u001b[0m\u001b[0m\n",
            "\u001b[0;32m/usr/local/lib/python3.7/dist-packages/PIL/ImageFile.py\u001b[0m in \u001b[0;36m_save\u001b[0;34m(im, fp, tile, bufsize)\u001b[0m\n\u001b[1;32m    526\u001b[0m                 \u001b[0ml\u001b[0m\u001b[0;34m,\u001b[0m \u001b[0ms\u001b[0m \u001b[0;34m=\u001b[0m \u001b[0me\u001b[0m\u001b[0;34m.\u001b[0m\u001b[0mencode_to_pyfd\u001b[0m\u001b[0;34m(\u001b[0m\u001b[0;34m)\u001b[0m\u001b[0;34m\u001b[0m\u001b[0;34m\u001b[0m\u001b[0m\n\u001b[1;32m    527\u001b[0m             \u001b[0;32melse\u001b[0m\u001b[0;34m:\u001b[0m\u001b[0;34m\u001b[0m\u001b[0;34m\u001b[0m\u001b[0m\n\u001b[0;32m--> 528\u001b[0;31m                 \u001b[0ms\u001b[0m \u001b[0;34m=\u001b[0m \u001b[0me\u001b[0m\u001b[0;34m.\u001b[0m\u001b[0mencode_to_file\u001b[0m\u001b[0;34m(\u001b[0m\u001b[0mfh\u001b[0m\u001b[0;34m,\u001b[0m \u001b[0mbufsize\u001b[0m\u001b[0;34m)\u001b[0m\u001b[0;34m\u001b[0m\u001b[0;34m\u001b[0m\u001b[0m\n\u001b[0m\u001b[1;32m    529\u001b[0m             \u001b[0;32mif\u001b[0m \u001b[0ms\u001b[0m \u001b[0;34m<\u001b[0m \u001b[0;36m0\u001b[0m\u001b[0;34m:\u001b[0m\u001b[0;34m\u001b[0m\u001b[0;34m\u001b[0m\u001b[0m\n\u001b[1;32m    530\u001b[0m                 \u001b[0;32mraise\u001b[0m \u001b[0mOSError\u001b[0m\u001b[0;34m(\u001b[0m\u001b[0;34m\"encoder error %d when writing image file\"\u001b[0m \u001b[0;34m%\u001b[0m \u001b[0ms\u001b[0m\u001b[0;34m)\u001b[0m\u001b[0;34m\u001b[0m\u001b[0;34m\u001b[0m\u001b[0m\n",
            "\u001b[0;31mKeyboardInterrupt\u001b[0m: "
          ]
        }
      ],
      "source": [
        "dir_paths = [\n",
        "    '/content/drive/MyDrive/dir/train_dir/pants/',\n",
        "    '/content/drive/MyDrive/dir/train_dir/t-shirts/',\n",
        "    '/content/drive/MyDrive/dir/test_dir/pants/',\n",
        "    '/content/drive/MyDrive/dir/test_dir/t-shirts/'\n",
        "]\n",
        "\n",
        "for dir_path in dir_paths:\n",
        "  num = 0\n",
        "  onlyfiles = [f for f in listdir(dir_path) if isfile(join(dir_path, f))]\n",
        "  for num, filename in enumerate(onlyfiles):\n",
        "    im = Image.open(Path(dir_path) / filename)\n",
        "    im = im.save(f'{dir_path}/test{num}.jpg', )\n",
        "\n",
        "\n"
      ]
    },
    {
      "cell_type": "code",
      "execution_count": 3,
      "metadata": {
        "id": "wWmhMPPb7E7_"
      },
      "outputs": [],
      "source": [
        "base_dir = Path('/content/drive/MyDrive/dir')\n",
        "folders = []\n",
        "test_dir = base_dir / 'test_dir' #в нее кидаем две папки рандомные для теста классов (10 а не 5261)\n",
        "train_dir = base_dir / 'train_dir'\n",
        "# train_dir = base_dir / 'train'\n",
        "# validation_dir = base_dir / 'validation'\n",
        "\n",
        "# train_cats_dir = train_dir / 'cats'\n",
        "# train_dogs_dir = train_dir / 'dogs'\n",
        "# validation_cats_dir = validation_dir / 'cats'\n",
        "# validation_dogs_dir = validation_dir / 'dogs'\n"
      ]
    },
    {
      "cell_type": "code",
      "execution_count": null,
      "metadata": {
        "id": "SyGfXoQ3oyxd"
      },
      "outputs": [],
      "source": [
        "# os.makedirs('train_dir')\n",
        "# os.makedirs('test_dir')"
      ]
    },
    {
      "cell_type": "markdown",
      "metadata": {
        "id": "O0oK4ee_TPlK"
      },
      "source": [
        "конец"
      ]
    },
    {
      "cell_type": "code",
      "execution_count": 4,
      "metadata": {
        "id": "2soKr2kRq21i"
      },
      "outputs": [],
      "source": [
        "class Data():\n",
        "  def __init__(self):\n",
        "    pass\n",
        "  \n",
        "  def prepare_data(preprocess_input, BATCH_SIZE=1, IMG_SHAPE=150, val_dir=test_dir, train_dir=train_dir, class_mode='binary'):\n",
        "\n",
        "    # for filename in glob('*.png'):\n",
        "    #   im = Image.open(filename).convert(\"RGB\")\n",
        "    #   im.save(\"test.jpg\",\"jpeg\")\n",
        "\n",
        "\n",
        "    image_gen_train = ImageDataGenerator(preprocessing_function=preprocess_input) # указываем preprocessing_function !!!\n",
        "    image_gen_val = ImageDataGenerator(preprocessing_function=preprocess_input) # указываем preprocessing_function !!!\n",
        "\n",
        "    BATCH_SIZE = BATCH_SIZE\n",
        "    IMG_SHAPE  = IMG_SHAPE\n",
        "\n",
        "    train_data_gen = image_gen_train.flow_from_directory(batch_size=BATCH_SIZE,\n",
        "                                                        directory=train_dir,\n",
        "                                                        shuffle=True,\n",
        "                                                        target_size=(IMG_SHAPE,IMG_SHAPE),\n",
        "                                                        class_mode=class_mode)\n",
        "    \n",
        "    image_gen_val = ImageDataGenerator(fill_mode='nearest') \n",
        "\n",
        "    val_data_gen = image_gen_val.flow_from_directory(batch_size=BATCH_SIZE,\n",
        "                                                                  directory=val_dir,\n",
        "                                                                  shuffle=False,\n",
        "                                                                  target_size=(IMG_SHAPE,IMG_SHAPE), #(150,150)\n",
        "                                                                  class_mode=class_mode)\n",
        "    return train_data_gen, val_data_gen"
      ]
    },
    {
      "cell_type": "code",
      "execution_count": 5,
      "metadata": {
        "colab": {
          "base_uri": "https://localhost:8080/"
        },
        "id": "IVM5d0KjHk1A",
        "outputId": "509589ac-60c4-45b7-c5eb-77124564bf90"
      },
      "outputs": [
        {
          "name": "stdout",
          "output_type": "stream",
          "text": [
            "Found 1226 images belonging to 2 classes.\n",
            "Found 108 images belonging to 2 classes.\n"
          ]
        }
      ],
      "source": [
        "data = Data()\n",
        "train_data_gen, val_data_gen = Data.prepare_data(preprocess_input=preprocess_input, train_dir=train_dir, val_dir=test_dir)\n"
      ]
    },
    {
      "cell_type": "code",
      "execution_count": 10,
      "metadata": {
        "id": "_ny3IJ5cudhL"
      },
      "outputs": [],
      "source": [
        "class Classifier:\n",
        "  def __init__(self):\n",
        "    self.IMG_SHAPE = (150, 150, 3)\n",
        "    # базовая модель -- MobileNet\n",
        "    self.base_model = tf.keras.applications.resnet.ResNet101(input_shape=self.IMG_SHAPE, include_top=False)  #, weights='imagenet'\n",
        "    self.base_model.trainable = False # замораживаем всю базовую модель\n",
        "\n",
        "  def unfreeze(self):\n",
        "    self.base_model.trainable = True\n",
        "    print(\"Количество слоев в базовой модели: \", len(self.base_model.layers), '\\n')\n",
        "    fine_tune_at = 0\n",
        "    # все слои до -- заморозим\n",
        "    for layer in self.base_model.layers[:fine_tune_at]:\n",
        "      layer.trainable =  False\n",
        "\n",
        "\n",
        "  def extra_layers(self, loss='binary_crossentropy', metrics='accuracy', optimizer='Adam', num_classes=None): #tf.keras.optimizers.Adam(learning_rate=0.001)\n",
        "    if num_classes == 2:\n",
        "      self.model = tf.keras.Sequential([\n",
        "      self.base_model,\n",
        "      # tf.keras.layers.Dropout(0.5),\n",
        "      # tf.keras.layers.BatchNormalization(),\n",
        "      # tf.keras.layers.Dense(100, activation='elu'),\n",
        "      # tf.keras.layers.Dropout(0.5),\n",
        "      tf.keras.layers.GlobalAveragePooling2D(),\n",
        "      tf.keras.layers.Dense(1, activation='sigmoid')\n",
        "      ])\n",
        "    else:\n",
        "      self.model = tf.keras.Sequential([\n",
        "      self.base_model,\n",
        "      tf.keras.layers.GlobalAveragePooling2D(),\n",
        "      tf.keras.layers.Dense(num_classes, activation='softmax')\n",
        "      ])\n",
        "    self.model.compile(optimizer=optimizer, loss=loss, metrics=[metrics])\n",
        "\n",
        "    print('!the model was built with additional layers!\\n')\n",
        "  \n",
        "  \n",
        "  def fit_train(self, epochs=10, train_data_gen=train_data_gen, val_data_gen=val_data_gen):      #change valid\n",
        "    self.hist = self.model.fit_generator(\n",
        "    train_data_gen,\n",
        "    epochs=epochs,\n",
        "    validation_data=val_data_gen,\n",
        "    )\n",
        "\n",
        "    print('!The model has been trained!\\n')\n",
        "\n",
        "\n",
        "  def fit_vizualization(self):\n",
        "    plt.plot(self.hist.history['loss'])\n",
        "    plt.plot(self.hist.history['val_loss'])\n",
        "\n",
        "\n",
        "  def predict_classes(self, datagen=val_data_gen):\n",
        "    sample_validation_images, sample_validation_labels = next(datagen)\n",
        "    self.predictions = (self.model.predict(sample_validation_images) > 0.5).astype(\"int32\").flatten()\n",
        "    self.sample_validation_images = sample_validation_images\n",
        "    self.sample_validation_labels = sample_validation_labels\n",
        "\n",
        "\n",
        "  def show_predictions(self, images, labels, predicted_labels=None):\n",
        "    names = {0: \"Pant\", 1: \"T-shirt\"}\n",
        "    plt.figure(figsize=(10,10))\n",
        "    for i in range(len(predicted_labels)):\n",
        "        plt.subplot(4,4, i+1)\n",
        "        plt.xticks([])\n",
        "        plt.yticks([])\n",
        "        plt.grid(False)\n",
        "        plt.imshow((images[i] + 1)/2., cmap=plt.cm.gray)\n",
        "        if predicted_labels is not None:\n",
        "            title_obj = plt.title(f\"Real: {names[labels[i]]}. Pred: {names[predicted_labels[i]]}\")\n",
        "            if labels[i] != predicted_labels[i]:\n",
        "                plt.setp(title_obj, color='r')\n",
        "        else:\n",
        "            plt.title(f\"Real label: {names[labels[i]]}\")"
      ]
    },
    {
      "cell_type": "code",
      "execution_count": 14,
      "metadata": {
        "colab": {
          "base_uri": "https://localhost:8080/"
        },
        "id": "U2dg-UZWkoiy",
        "outputId": "57fd4433-10be-4df8-dbe0-928132a3dd96"
      },
      "outputs": [
        {
          "name": "stdout",
          "output_type": "stream",
          "text": [
            "!the model was built with additional layers!\n",
            "\n",
            "Количество слоев в базовой модели:  345 \n",
            "\n",
            "Epoch 1/5\n"
          ]
        },
        {
          "name": "stderr",
          "output_type": "stream",
          "text": [
            "/usr/local/lib/python3.7/dist-packages/ipykernel_launcher.py:43: UserWarning: `Model.fit_generator` is deprecated and will be removed in a future version. Please use `Model.fit`, which supports generators.\n"
          ]
        },
        {
          "name": "stdout",
          "output_type": "stream",
          "text": [
            "1226/1226 [==============================] - 34s 23ms/step - loss: 0.2822 - accuracy: 0.9005 - val_loss: 0.1906 - val_accuracy: 0.9259\n",
            "Epoch 2/5\n",
            "1226/1226 [==============================] - 27s 22ms/step - loss: 0.1468 - accuracy: 0.9511 - val_loss: 0.2328 - val_accuracy: 0.9352\n",
            "Epoch 3/5\n",
            "1226/1226 [==============================] - 27s 22ms/step - loss: 0.0962 - accuracy: 0.9608 - val_loss: 0.2140 - val_accuracy: 0.9074\n",
            "Epoch 4/5\n",
            "1226/1226 [==============================] - 28s 23ms/step - loss: 0.0901 - accuracy: 0.9698 - val_loss: 0.2458 - val_accuracy: 0.8889\n",
            "Epoch 5/5\n",
            "1226/1226 [==============================] - 27s 22ms/step - loss: 0.0739 - accuracy: 0.9796 - val_loss: 0.1595 - val_accuracy: 0.9167\n",
            "!The model has been trained!\n",
            "\n",
            "CPU times: user 2min 31s, sys: 5.39 s, total: 2min 37s\n",
            "Wall time: 2min 25s\n"
          ]
        }
      ],
      "source": [
        "%%time\n",
        "ozon = Classifier()\n",
        "ozon.extra_layers(num_classes=2)\n",
        "ozon.unfreeze()\n",
        "ozon.fit_train(epochs=5)      #change valid\n"
      ]
    },
    {
      "cell_type": "code",
      "execution_count": 12,
      "metadata": {
        "colab": {
          "base_uri": "https://localhost:8080/",
          "height": 438
        },
        "id": "nXFm_0B899h5",
        "outputId": "22fc0c8c-e471-40cd-bdf6-34892122c78a"
      },
      "outputs": [
        {
          "name": "stderr",
          "output_type": "stream",
          "text": [
            "WARNING:matplotlib.image:Clipping input data to the valid range for imshow with RGB data ([0..1] for floats or [0..255] for integers).\n"
          ]
        },
        {
          "data": {
            "image/png": "[encoded data removed]",
            "text/plain": [
              "<Figure size 432x288 with 1 Axes>"
            ]
          },
          "metadata": {
            "needs_background": "light"
          },
          "output_type": "display_data"
        },
        {
          "data": {
            "image/png": "[encoded data removed]",
            "text/plain": [
              "<Figure size 720x720 with 1 Axes>"
            ]
          },
          "metadata": {},
          "output_type": "display_data"
        }
      ],
      "source": [
        "ozon.fit_vizualization()\n",
        "ozon.predict_classes(train_data_gen)    #change valid\n",
        "ozon.show_predictions(ozon.sample_validation_images, ozon.sample_validation_labels, ozon.predictions)"
      ]
    },
    {
      "cell_type": "code",
      "execution_count": 13,
      "metadata": {
        "colab": {
          "base_uri": "https://localhost:8080/",
          "height": 282
        },
        "id": "RrW61uS2MZsr",
        "outputId": "a9f463cd-da00-4bfa-f827-aba5f34e45bf"
      },
      "outputs": [
        {
          "data": {
            "text/plain": [
              "[<matplotlib.lines.Line2D at 0x7f01e34126d0>]"
            ]
          },
          "execution_count": 13,
          "metadata": {},
          "output_type": "execute_result"
        },
        {
          "data": {
            "image/png": "[encoded data removed]",
            "text/plain": [
              "<Figure size 432x288 with 1 Axes>"
            ]
          },
          "metadata": {
            "needs_background": "light"
          },
          "output_type": "display_data"
        }
      ],
      "source": [
        "plt.plot(ozon.hist.history['accuracy'])\n",
        "plt.plot(ozon.hist.history['val_accuracy'])"
      ]
    },
    {
      "cell_type": "code",
      "execution_count": null,
      "metadata": {
        "id": "pn7-tNVqJS26"
      },
      "outputs": [],
      "source": []
    }
  ],
  "metadata": {
    "accelerator": "GPU",
    "colab": {
      "collapsed_sections": [],
      "provenance": []
    },
    "gpuClass": "standard",
    "kernelspec": {
      "display_name": "Python 3",
      "name": "python3"
    },
    "language_info": {
      "name": "python"
    }
  },
  "nbformat": 4,
  "nbformat_minor": 0
}
